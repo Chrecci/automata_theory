{
 "cells": [
  {
   "cell_type": "code",
   "execution_count": 71,
   "metadata": {},
   "outputs": [
    {
     "name": "stdout",
     "output_type": "stream",
     "text": [
      "dbe\n",
      "{'q2', 'q0'}\n",
      "True\n"
     ]
    }
   ],
   "source": [
    "#Question 2.2 d)\n",
    "from automata.fa.nfa import NFA\n",
    "\n",
    "#first create a map of all input set of 3 digits\n",
    "#this allows us to use letters such as a,b,c... instead of number strings, which nfa can only read\n",
    "#individually\n",
    "map_AddBin3 = {'000':'a', '100':'b', '010':'c', '001':'d', '110':'e', '011':'f', '101':'g', '111':'h'}\n",
    "nfa_AddBin3 = NFA(\n",
    "    states={'q0', 'q1', 'q2'},\n",
    "    input_symbols={'a', 'b', 'c', 'd', 'e', 'f', 'g', 'h', },\n",
    "    transitions={\n",
    "        'q0': {'a': {'q0'}, 'g': {'q0'}, 'f': {'q0'}, 'd': {'q1'}},\n",
    "        'q1': {'b': {'q1'}, 'c': {'q1'}, 'h': {'q1'}, 'e': {'q0', 'q2'}},\n",
    "        'q2': {'a': {'q0', 'q1'}, 'g': {'q0', 'q1'}, 'f': {'q0', 'q1'}, 'd': {'q1'}}\n",
    "    },\n",
    "    initial_state='q2',\n",
    "    final_states={'q0'}\n",
    ")\n",
    "\n",
    "#convert list of strings into characters to be validated by nfa_AddBin3\n",
    "input_string_converted = ''\n",
    "\n",
    "#multiple test cases\n",
    "input_string = ['001', '100', '110']\n",
    "#input_string = ['101', '011']\n",
    "#input_string = ['111', '101', '110']\n",
    "for i in input_string:\n",
    "    input_string_converted += map_AddBin3[i]\n",
    "\n",
    "print(input_string_converted)\n",
    "print(nfa_AddBin3.read_input(input_string_converted))\n",
    "print(nfa_AddBin3.accepts_input(input_string_converted))"
   ]
  },
  {
   "cell_type": "code",
   "execution_count": 72,
   "metadata": {},
   "outputs": [],
   "source": [
    "#Question 3.3. Refer to assignment pdf for finite state diagram\n",
    "#In order to avoid a bunch of states in one NFA, I instead left them all as individuals\n",
    "#The first nfa, nfa_path, will read the first three characters of a given input string\n",
    "#This will help find the next operator to use, if so available\n",
    "#If available, a final function then directs remaining string into appropriate nfa for that operator\n",
    "\n",
    "#Codes for each operator is as follows: \n",
    "#Addbin3 (011), OR (100), X-OR(101), AND (110), and COMPLEMENT (111),\n",
    "nfa_path = NFA(\n",
    "    states={'q0', 'q1', 'q2', 'q3', 'q4', 'q5', 'COMP', 'AND', 'OR', 'XOR', 'AB3'},\n",
    "    input_symbols={'0', '1'},\n",
    "    transitions={\n",
    "        'q0': {'1': {'q1'}, '0': {'q4'}},\n",
    "        'q1': {'1': {'q2'}, '0': {'q3'}},\n",
    "        'q2': {'1': {'COMP'}, '0': {'AND'}},\n",
    "        'q3': {'1': {'XOR'}, '0': {'OR'}},\n",
    "        'q4': {'1': {'q5'}},\n",
    "        'q5': {'1': {'AB3'}},\n",
    "        'COMP': {},\n",
    "        'AND': {},\n",
    "        'OR': {},\n",
    "        'XOR': {},\n",
    "        'AB3': {}\n",
    "    },\n",
    "    initial_state='q0',\n",
    "    final_states={'COMP', 'AND', 'OR', 'XOR', 'AB3'}\n",
    ")"
   ]
  },
  {
   "cell_type": "code",
   "execution_count": 73,
   "metadata": {},
   "outputs": [],
   "source": [
    "nfa_AND = NFA(\n",
    "    states={'q0', 'q1', 'q2', 'q3', 'q4', 'q5'},\n",
    "    input_symbols={'0', '1'},\n",
    "    transitions={\n",
    "        'q0': {'1': {'q2'}, '0': {'q1'}},\n",
    "        'q1': {'1': {'q3'}, '0': {'q3'}},\n",
    "        'q2': {'1': {'q4'}, '0': {'q3'}},\n",
    "        'q3': {'0': {'q5'}},\n",
    "        'q4': {'1': {'q5'}},\n",
    "        'q5': {}\n",
    "    },\n",
    "    initial_state='q0',\n",
    "    final_states={'q5'}\n",
    ")"
   ]
  },
  {
   "cell_type": "code",
   "execution_count": 74,
   "metadata": {},
   "outputs": [],
   "source": [
    "nfa_OR = NFA(\n",
    "    states={'q0', 'q1', 'q2', 'q3', 'q4', 'q5'},\n",
    "    input_symbols={'0', '1'},\n",
    "    transitions={\n",
    "        'q0': {'1': {'q2'}, '0': {'q1'}},\n",
    "        'q1': {'1': {'q4'}, '0': {'q3'}},\n",
    "        'q2': {'1': {'q4'}, '0': {'q4'}},\n",
    "        'q3': {'0': {'q5'}},\n",
    "        'q4': {'1': {'q5'}},\n",
    "        'q5': {}\n",
    "    },\n",
    "    initial_state='q0',\n",
    "    final_states={'q5'}\n",
    ")"
   ]
  },
  {
   "cell_type": "code",
   "execution_count": 75,
   "metadata": {},
   "outputs": [],
   "source": [
    "nfa_XOR = NFA(\n",
    "    states={'q0', 'q1', 'q2', 'q3', 'q4', 'q5'},\n",
    "    input_symbols={'0', '1'},\n",
    "    transitions={\n",
    "        'q0': {'1': {'q2'}, '0': {'q1'}},\n",
    "        'q1': {'1': {'q4'}, '0': {'q3'}},\n",
    "        'q2': {'1': {'q3'}, '0': {'q4'}},\n",
    "        'q3': {'0': {'q5'}},\n",
    "        'q4': {'1': {'q5'}},\n",
    "        'q5': {}\n",
    "    },\n",
    "    initial_state='q0',\n",
    "    final_states={'q5'}\n",
    ")"
   ]
  },
  {
   "cell_type": "code",
   "execution_count": 76,
   "metadata": {},
   "outputs": [],
   "source": [
    "nfa_COMP = NFA(\n",
    "    states={'q0', 'q1', 'q2', 'q3'},\n",
    "    input_symbols={'0', '1'},\n",
    "    transitions={\n",
    "        'q0': {'1': {'q2'}, '0': {'q1'}},\n",
    "        'q1': {'1': {'q3'}},\n",
    "        'q2': {'0': {'q3'}},\n",
    "        'q3': {}\n",
    "    },\n",
    "    initial_state='q0',\n",
    "    final_states={'q3'}\n",
    ")"
   ]
  },
  {
   "cell_type": "code",
   "execution_count": 77,
   "metadata": {},
   "outputs": [],
   "source": [
    "#This is the big final function I was referring to. Does all the work to ensure everything runs\n",
    "def read_string(input_string):\n",
    "    \n",
    "    #split input string into first 3 characters, then the rest\n",
    "    path_string = input_string[:3]\n",
    "    operator_string = input_string[3:]\n",
    "    #print(operator_string)\n",
    "    accept = None\n",
    "    if nfa_path.accepts_input(path_string):\n",
    "        operator = list(nfa_path.read_input(path_string))[0]\n",
    "    if operator == \"COMP\":\n",
    "        accept = nfa_COMP.accepts_input(operator_string)\n",
    "    if operator == \"AND\":\n",
    "        accept = nfa_AND.accepts_input(operator_string)\n",
    "    if operator == \"OR\":\n",
    "        accept = nfa_OR.accepts_input(operator_string)\n",
    "    if operator == \"XOR\":\n",
    "        accept = nfa_XOR.accepts_input(operator_string)\n",
    "        \n",
    "    #some more heavy lifting needs to be done for AB3 since we defined it earlier as a list of strings\n",
    "    if operator == \"AB3\" and (len(operator_string)%3 == 0):\n",
    "        temp_list = []\n",
    "        map_AddBin3 = {'000':'a', '100':'b', '010':'c', '001':'d', '110':'e', '011':'f', '101':'g', '111':'h'}\n",
    "        for i in range(len(operator_string)//3):\n",
    "            temp_str = ''\n",
    "            for j in range(3):\n",
    "                digit = (i*3)+j\n",
    "                temp_str += (operator_string[digit])\n",
    "            temp_list.append(temp_str)\n",
    "        input_string_converted = ''\n",
    "        for k in temp_list:\n",
    "            input_string_converted += map_AddBin3[k]\n",
    "        accept = nfa_AddBin3.accepts_input(input_string_converted)\n",
    "    return accept"
   ]
  },
  {
   "cell_type": "code",
   "execution_count": 78,
   "metadata": {},
   "outputs": [],
   "source": [
    "#tests each string to make sure everything works, as you can see all tests pass\n",
    "\n",
    "assert(read_string(\"11101\"))\n",
    "assert(read_string(\"100101\"))\n",
    "assert(read_string(\"110111\"))\n",
    "assert(read_string(\"011001100110\"))"
   ]
  }
 ],
 "metadata": {
  "kernelspec": {
   "display_name": "Python 3",
   "language": "python",
   "name": "python3"
  },
  "language_info": {
   "codemirror_mode": {
    "name": "ipython",
    "version": 3
   },
   "file_extension": ".py",
   "mimetype": "text/x-python",
   "name": "python",
   "nbconvert_exporter": "python",
   "pygments_lexer": "ipython3",
   "version": "3.7.3"
  }
 },
 "nbformat": 4,
 "nbformat_minor": 4
}
