{
 "cells": [
  {
   "cell_type": "markdown",
   "metadata": {},
   "source": [
    "### 2.4.a)"
   ]
  },
  {
   "cell_type": "code",
   "execution_count": 1,
   "metadata": {},
   "outputs": [],
   "source": [
    "from automata.fa.nfa import NFA"
   ]
  },
  {
   "cell_type": "code",
   "execution_count": 6,
   "metadata": {},
   "outputs": [
    {
     "name": "stdout",
     "output_type": "stream",
     "text": [
      "['+', '-', '.', '>', '<', '=', ' ', 'a', 'b', 'c', 'd', 'e', 'f', 'g', 'h', 'i', 'j', 'k', 'l', 'm', 'n', 'o', 'p', 'q', 'r', 's', 't', 'u', 'v', 'w', 'x', 'y', 'z', 'A', 'B', 'C', 'D', 'E', 'F', 'G', 'H', 'I', 'J', 'K', 'L', 'M', 'N', 'O', 'P', 'Q', 'R', 'S', 'T', 'U', 'V', 'W', 'X', 'Y', 'Z', '0', '1', '2', '3', '4', '5', '6', '7', '8', '9']\n"
     ]
    }
   ],
   "source": [
    "#we work with three sets of characters really. Pre-define them to make our lives a whole lot easier\n",
    "symbols = ['+', '-', '.', '>', '<', '=', ' ']\n",
    "letters = ['a', 'b', 'c', 'd', 'e', 'f', 'g', 'h', 'i', 'j', 'k', 'l', 'm', 'n', 'o', \n",
    "           'p', 'q', 'r', 's', 't', 'u', 'v', 'w', 'x', 'y', 'z', 'A', 'B', 'C', 'D', \n",
    "           'E', 'F', 'G', 'H', 'I', 'J', 'K', 'L', 'M', 'N', 'O', 'P', 'Q', 'R', 'S', \n",
    "           'T', 'U', 'V', 'W', 'X', 'Y', 'Z']\n",
    "numbers = ['0', '1', '2', '3', '4', '5', '6', '7', '8', '9']\n",
    "\n",
    "#merge every together for final alphabet of nfa_B\n",
    "alphabet = symbols+letters+numbers\n",
    "\n",
    "print(alphabet)"
   ]
  },
  {
   "cell_type": "code",
   "execution_count": 14,
   "metadata": {},
   "outputs": [
    {
     "name": "stdout",
     "output_type": "stream",
     "text": [
      "['q0', 'q1', 'q2', 'q3', 'q4', 'q5', 'q6', 'q7', 'q8', 'q9', 'q10', 'q11', 'q12', 'q13', 'q14', 'q15', 'q16', 'q17', 'q18', 'q19', 'q20', 'q21', 'q22', 'q23', 'q24', 'q25', 'q26', 'q27', 'q28', 'q29', 'q30', 'q31']\n",
      "{'q0': {'': {}}, 'q1': {'': {}}, 'q2': {'': {}}, 'q3': {'': {}}, 'q4': {'': {}}, 'q5': {'': {}}, 'q6': {'': {}}, 'q7': {'': {}}, 'q8': {'': {}}, 'q9': {'': {}}, 'q10': {'': {}}, 'q11': {'': {}}, 'q12': {'': {}}, 'q13': {'': {}}, 'q14': {'': {}}, 'q15': {'': {}}, 'q16': {'': {}}, 'q17': {'': {}}, 'q18': {'': {}}, 'q19': {'': {}}, 'q20': {'': {}}, 'q21': {'': {}}, 'q22': {'': {}}, 'q23': {'': {}}, 'q24': {'': {}}, 'q25': {'': {}}, 'q26': {'': {}}, 'q27': {'': {}}, 'q28': {'': {}}, 'q29': {'': {}}, 'q30': {'': {}}, 'q31': {'': {}}}\n"
     ]
    }
   ],
   "source": [
    "#quickly create all states so I can just copy paste them\n",
    "temp = []\n",
    "for x in range(32):\n",
    "    temp.append('q'+str(x))\n",
    "print(temp)\n",
    "\n",
    "#create simple dictionary so I can copy as a template into transition function later\n",
    "d={}\n",
    "for i in temp:\n",
    "    temp_dict={'': {}}\n",
    "    d[i]=temp_dict \n",
    "print(d)"
   ]
  },
  {
   "cell_type": "code",
   "execution_count": 17,
   "metadata": {},
   "outputs": [
    {
     "name": "stdout",
     "output_type": "stream",
     "text": [
      "{'0': {'q3'}, '1': {'q3'}, '2': {'q3'}, '3': {'q3'}, '4': {'q3'}, '5': {'q3'}, '6': {'q3'}, '7': {'q3'}, '8': {'q3'}, '9': {'q3'}}\n",
      "{'0': {'q9'}, '1': {'q9'}, '2': {'q9'}, '3': {'q9'}, '4': {'q9'}, '5': {'q9'}, '6': {'q9'}, '7': {'q9'}, '8': {'q9'}, '9': {'q9'}, '.': {'q11'}}\n"
     ]
    }
   ],
   "source": [
    "#helper function. This way, I don't have to create giant dictionaries just to point all letters to \n",
    "#one state, or all numbers etc. This function handles that for me\n",
    "def create_D (numbers, to_state):\n",
    "    a = {}\n",
    "    for i in numbers:\n",
    "        a[i]=to_state\n",
    "    return a\n",
    "\n",
    "print(create_D(numbers, {'q3'}))\n",
    "\n",
    "#use the above function while including an additional entry into our final dictionary\n",
    "print({**create_D(numbers, {'q9'}), '.': {'q11'}})"
   ]
  },
  {
   "cell_type": "code",
   "execution_count": 22,
   "metadata": {},
   "outputs": [
    {
     "name": "stdout",
     "output_type": "stream",
     "text": [
      "['a', 'b', 'c', 'd', 'e', 'f', 'g', 'h', 'i', 'j', 'k', 'l', 'm', 'n', 'o', 'p', 'q', 'r', 's', 't', 'u', 'v', 'w', 'x', 'y', 'z', 'A', 'B', 'C', 'D', 'E', 'F', 'G', 'H', 'I', 'J', 'K', 'L', 'M', 'N', 'O', 'P', 'Q', 'R', 'S', 'T', 'U', 'V', 'W', 'X', 'Y', 'Z']\n"
     ]
    }
   ],
   "source": [
    "#Our NFA to represent 2.4.a) \n",
    "nfa_B = NFA(\n",
    "    states={'q0', 'q1', 'q2', 'q3', 'q4', 'q5', 'q6', 'q7', 'q8', 'q9', 'q10', \n",
    "            'q11', 'q12', 'q13', 'q14', 'q15', 'q16', 'q17', 'q18', 'q19', 'q20', \n",
    "            'q21', 'q22', 'q23', 'q24', 'q25', 'q26', 'q27', 'q28', 'q29', 'q30', 'q31'},\n",
    "    input_symbols=alphabet,\n",
    "    transitions={\n",
    "        'q0': {'I': {'q1'}}, \n",
    "        'q1': {'f': {'q2'}}, \n",
    "        'q2': {' ': {'q3'}}, \n",
    "        'q3': {'': {'q4'}}, \n",
    "        'q4': create_D(letters, {'q5'}), \n",
    "        'q5': {'=': {'q7'},'>': {'q6'},'<': {'q6'}}, \n",
    "        'q6': {'=': {'q7'}, '':{'q7'}}, \n",
    "        'q7': {'+': {'q8'}, '-': {'q8'}, '': {'q8'}}, \n",
    "        'q8': {**create_D(numbers, {'q9'}), '.': {'q11'}}, \n",
    "        'q9': {**create_D(numbers, {'q9'}), '.': {'q10'}, ' ': {'q12'}}, \n",
    "        'q10': {**create_D(numbers, {'q10'}), ' ': {'q12'}}, \n",
    "        'q11': create_D(numbers, {'q10'}), \n",
    "        'q12': {'t': {'q13'}}, \n",
    "        'q13': {'h': {'q14'}}, \n",
    "        'q14': {'e': {'q15'}}, \n",
    "        'q15': {'n': {'q16'}}, \n",
    "        'q16': {' ': {'q17'}}, \n",
    "        'q17': {'': {'q18'}}, \n",
    "        'q18': create_D(letters, {'q19'}), \n",
    "        'q19': {'=': {'q20'}}, \n",
    "        'q20': {'': {'q21'}}, \n",
    "        'q21': {'+': {'q22'}, '-': {'q22'}, '': {'q22'}}, \n",
    "        'q22': {**create_D(numbers, {'q23'}), '.': {'q25'}}, \n",
    "        'q23': {**create_D(numbers, {'q23'}), '.': {'q24'}, ' ': {'q26'}}, \n",
    "        'q24': {**create_D(numbers, {'q24'}), ' ': {'q26'}}, \n",
    "        'q25': create_D(numbers, {'q24'}),  \n",
    "        'q26': {'e': {'q27'}}, \n",
    "        'q27': {'n': {'q28'}}, \n",
    "        'q28': {'d': {'q29'}}, \n",
    "        'q29': {'i': {'q30'}}, \n",
    "        'q30': {'f': {'q31'}}, \n",
    "        'q31': {}, \n",
    "    },\n",
    "    initial_state='q0',\n",
    "    final_states={'q31'}\n",
    ")"
   ]
  },
  {
   "cell_type": "code",
   "execution_count": 33,
   "metadata": {},
   "outputs": [],
   "source": [
    "#Thorough set of tests to make sure our NFA works as intended\n",
    "test_input_1=\"If A>0.1 then B=1.5 endif\"\n",
    "test_input_2=\"If A>=.123456789 then B=123456789. endif\"\n",
    "test_input_3=\"If A=45 then B=0 endif\"\n",
    "test_input_4=\"If A>0.1 than B=1.5 endif\"\n",
    "test_input_5=\"If A>. than B=1.5 endif\"\n",
    "test_input_6=\"If A>1.1 than B= endif\"\n",
    "test_input_7=\"If A>0 than B=10.5 endif\"\n",
    "test_input_8=\"If A>0 than B=10^5 endif\"\n",
    "\n",
    "#If cell runs with no errors then that means all tests have passed\n",
    "assert(nfa_B.accepts_input(test_input_1)==True)\n",
    "assert(nfa_B.accepts_input(test_input_2)==True)\n",
    "assert(nfa_B.accepts_input(test_input_3)==True)\n",
    "assert(nfa_B.accepts_input(test_input_4)==False)\n",
    "assert(nfa_B.accepts_input(test_input_5)==False)\n",
    "assert(nfa_B.accepts_input(test_input_6)==False)\n",
    "assert(nfa_B.accepts_input(test_input_7)==False)\n",
    "assert(nfa_B.accepts_input(test_input_8)==False)"
   ]
  },
  {
   "cell_type": "markdown",
   "metadata": {},
   "source": [
    "### 2.4.b)\n",
    "\n",
    "The automaton created above in 4.a) is a non-deterministic finite automaton. Simply put, this means\n",
    "that at each state, we run parallel computations for each posible transition. So long as any of the\n",
    "parallel branches are running, we continue to feed our inputs to that branch, until it too rejects.\n",
    "If every so-called branch rejects for our input, then our machine will ultimately reject as well. That\n",
    "is what is going on when the NFA above rejects as well. For example, say our computation is at q14. From here, only one possible input can be read, \"e\". If somehow, our input string was \"If A>0.1 than B=1.5 endif\", our current input would be on \"a\" in than. This input can not be recognized by q14, so this \"branch\" \"dies off.\" If this happened to be the only computing branch remaining, as in no other possible routes are still valid, then the machine will have to reject as this was the final possible way our machine could have kept computing. Tragic."
   ]
  }
 ],
 "metadata": {
  "kernelspec": {
   "display_name": "Python 3",
   "language": "python",
   "name": "python3"
  },
  "language_info": {
   "codemirror_mode": {
    "name": "ipython",
    "version": 3
   },
   "file_extension": ".py",
   "mimetype": "text/x-python",
   "name": "python",
   "nbconvert_exporter": "python",
   "pygments_lexer": "ipython3",
   "version": "3.7.3"
  }
 },
 "nbformat": 4,
 "nbformat_minor": 4
}
